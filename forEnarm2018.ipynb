{
 "cells": [
  {
   "cell_type": "code",
   "execution_count": 1,
   "metadata": {},
   "outputs": [],
   "source": [
    "phi = (1+sqrt(5))/2\n",
    "ancho=8\n",
    "library(repr)\n",
    "options(repr.plot.width=ancho, repr.plot.height=round(ancho/phi))"
   ]
  },
  {
   "cell_type": "code",
   "execution_count": 2,
   "metadata": {},
   "outputs": [],
   "source": [
    "library(docxtractr)"
   ]
  },
  {
   "cell_type": "code",
   "execution_count": 3,
   "metadata": {},
   "outputs": [],
   "source": [
    "f <- read_docx(path = \"E42_enarm_ra_2018.docx\")"
   ]
  },
  {
   "cell_type": "code",
   "execution_count": 4,
   "metadata": {},
   "outputs": [
    {
     "data": {
      "text/html": [
       "<table>\n",
       "<thead><tr><th scope=col>Médicos categoría mexicana sustentantes, seleccionados, promedio general por  Facultad o Escuela de Medicina de procedencia XLII Examen Nacional para Aspirantes a Residencias Médicas 2018</th><th scope=col>NA</th><th scope=col>NA</th><th scope=col>NA</th><th scope=col>NA</th></tr></thead>\n",
       "<tbody>\n",
       "\t<tr><td>                                         </td><td>                                         </td><td>                                         </td><td>                                         </td><td>                                         </td></tr>\n",
       "\t<tr><td>Entidad Federativa                       </td><td>Facultad oEscuela de Medicina            </td><td>Sustentantes                             </td><td>Seleccionados                            </td><td>Promedio generalconocimientosmédicos     </td></tr>\n",
       "\t<tr><td>AGUASCALIENTES                           </td><td>UNIV. AUT. DE AGUASCALIENTES             </td><td>265                                      </td><td>100                                      </td><td>67.93                                    </td></tr>\n",
       "\t<tr><td>AGUASCALIENTES                           </td><td>UNIV. CUAUHTEMOC - CAMPUS AGUASCALIENTES </td><td>79                                       </td><td>20                                       </td><td>65.12                                    </td></tr>\n",
       "\t<tr><td>BAJA CALIFORNIA                          </td><td>CENTRO EST. UNIV. XOCHICALCO, U. ENSENADA</td><td>264                                      </td><td>48                                       </td><td>61.20                                    </td></tr>\n",
       "\t<tr><td>BAJA CALIFORNIA                          </td><td>CENTRO EST. UNIV. XOCHICALCO, U. TIJUANA </td><td>157                                      </td><td>31                                       </td><td>63.26                                    </td></tr>\n",
       "</tbody>\n",
       "</table>\n"
      ],
      "text/latex": [
       "\\begin{tabular}{r|lllll}\n",
       " Médicos categoría mexicana sustentantes, seleccionados, promedio general por  Facultad o Escuela de Medicina de procedencia XLII Examen Nacional para Aspirantes a Residencias Médicas 2018 & NA & NA & NA & NA\\\\\n",
       "\\hline\n",
       "\t                                           &                                           &                                           &                                           &                                          \\\\\n",
       "\t Entidad Federativa                        & Facultad oEscuela de Medicina             & Sustentantes                              & Seleccionados                             & Promedio generalconocimientosmédicos     \\\\\n",
       "\t AGUASCALIENTES                            & UNIV. AUT. DE AGUASCALIENTES              & 265                                       & 100                                       & 67.93                                    \\\\\n",
       "\t AGUASCALIENTES                            & UNIV. CUAUHTEMOC - CAMPUS AGUASCALIENTES  & 79                                        & 20                                        & 65.12                                    \\\\\n",
       "\t BAJA CALIFORNIA                           & CENTRO EST. UNIV. XOCHICALCO, U. ENSENADA & 264                                       & 48                                        & 61.20                                    \\\\\n",
       "\t BAJA CALIFORNIA                           & CENTRO EST. UNIV. XOCHICALCO, U. TIJUANA  & 157                                       & 31                                        & 63.26                                    \\\\\n",
       "\\end{tabular}\n"
      ],
      "text/markdown": [
       "\n",
       "Médicos categoría mexicana sustentantes, seleccionados, promedio general por  Facultad o Escuela de Medicina de procedencia XLII Examen Nacional para Aspirantes a Residencias Médicas 2018 | NA | NA | NA | NA | \n",
       "|---|---|---|---|---|---|\n",
       "|                                           |                                           |                                           |                                           |                                           | \n",
       "| Entidad Federativa                        | Facultad oEscuela de Medicina             | Sustentantes                              | Seleccionados                             | Promedio generalconocimientosmédicos      | \n",
       "| AGUASCALIENTES                            | UNIV. AUT. DE AGUASCALIENTES              | 265                                       | 100                                       | 67.93                                     | \n",
       "| AGUASCALIENTES                            | UNIV. CUAUHTEMOC - CAMPUS AGUASCALIENTES  | 79                                        | 20                                        | 65.12                                     | \n",
       "| BAJA CALIFORNIA                           | CENTRO EST. UNIV. XOCHICALCO, U. ENSENADA | 264                                       | 48                                        | 61.20                                     | \n",
       "| BAJA CALIFORNIA                           | CENTRO EST. UNIV. XOCHICALCO, U. TIJUANA  | 157                                       | 31                                        | 63.26                                     | \n",
       "\n",
       "\n"
      ],
      "text/plain": [
       "  Médicos categoría mexicana sustentantes, seleccionados, promedio general por  Facultad o Escuela de Medicina de procedencia XLII Examen Nacional para Aspirantes a Residencias Médicas 2018\n",
       "1                                                                                                                                                                                            \n",
       "2 Entidad Federativa                                                                                                                                                                         \n",
       "3 AGUASCALIENTES                                                                                                                                                                             \n",
       "4 AGUASCALIENTES                                                                                                                                                                             \n",
       "5 BAJA CALIFORNIA                                                                                                                                                                            \n",
       "6 BAJA CALIFORNIA                                                                                                                                                                            \n",
       "  <NA>                                      <NA>         <NA>         \n",
       "1                                                                     \n",
       "2 Facultad oEscuela de Medicina             Sustentantes Seleccionados\n",
       "3 UNIV. AUT. DE AGUASCALIENTES              265          100          \n",
       "4 UNIV. CUAUHTEMOC - CAMPUS AGUASCALIENTES  79           20           \n",
       "5 CENTRO EST. UNIV. XOCHICALCO, U. ENSENADA 264          48           \n",
       "6 CENTRO EST. UNIV. XOCHICALCO, U. TIJUANA  157          31           \n",
       "  <NA>                                \n",
       "1                                     \n",
       "2 Promedio generalconocimientosmédicos\n",
       "3 67.93                               \n",
       "4 65.12                               \n",
       "5 61.20                               \n",
       "6 63.26                               "
      ]
     },
     "metadata": {},
     "output_type": "display_data"
    }
   ],
   "source": [
    "d <- docx_extract_tbl(docx = f,tbl_number = 1)\n",
    "head(d)"
   ]
  },
  {
   "cell_type": "code",
   "execution_count": 5,
   "metadata": {},
   "outputs": [
    {
     "data": {
      "text/html": [
       "<ol class=list-inline>\n",
       "\t<li>123</li>\n",
       "\t<li>5</li>\n",
       "</ol>\n"
      ],
      "text/latex": [
       "\\begin{enumerate*}\n",
       "\\item 123\n",
       "\\item 5\n",
       "\\end{enumerate*}\n"
      ],
      "text/markdown": [
       "1. 123\n",
       "2. 5\n",
       "\n",
       "\n"
      ],
      "text/plain": [
       "[1] 123   5"
      ]
     },
     "metadata": {},
     "output_type": "display_data"
    }
   ],
   "source": [
    "dim(d)"
   ]
  },
  {
   "cell_type": "code",
   "execution_count": 6,
   "metadata": {},
   "outputs": [
    {
     "data": {
      "text/html": [
       "<table>\n",
       "<thead><tr><th></th><th scope=col>Entidad Federativa</th><th scope=col>Universidad</th><th scope=col>Sustentantes</th><th scope=col>Seleccionados</th><th scope=col>PromedioGeneral</th></tr></thead>\n",
       "<tbody>\n",
       "\t<tr><th scope=row>3</th><td>AGUASCALIENTES                                 </td><td>UNIV. AUT. DE AGUASCALIENTES                   </td><td>265                                            </td><td>100                                            </td><td>67.93                                          </td></tr>\n",
       "\t<tr><th scope=row>4</th><td>AGUASCALIENTES                                 </td><td>UNIV. CUAUHTEMOC - CAMPUS AGUASCALIENTES       </td><td>79                                             </td><td>20                                             </td><td>65.12                                          </td></tr>\n",
       "\t<tr><th scope=row>5</th><td>BAJA CALIFORNIA                                </td><td>CENTRO EST. UNIV. XOCHICALCO, U. ENSENADA      </td><td>264                                            </td><td>48                                             </td><td>61.20                                          </td></tr>\n",
       "\t<tr><th scope=row>6</th><td>BAJA CALIFORNIA                                </td><td>CENTRO EST. UNIV. XOCHICALCO, U. TIJUANA       </td><td>157                                            </td><td>31                                             </td><td>63.26                                          </td></tr>\n",
       "\t<tr><th scope=row>7</th><td>BAJA CALIFORNIA                                </td><td>UNIV. AUT. DE B.C. - CAMPUS VALLE DE LAS PALMAS</td><td>157                                            </td><td>29                                             </td><td>64.22                                          </td></tr>\n",
       "\t<tr><th scope=row>8</th><td>BAJA CALIFORNIA                                </td><td>UNIV. AUT. DE B.C., U. ENSENADA                </td><td>206                                            </td><td>57                                             </td><td>65.27                                          </td></tr>\n",
       "</tbody>\n",
       "</table>\n"
      ],
      "text/latex": [
       "\\begin{tabular}{r|lllll}\n",
       "  & Entidad Federativa & Universidad & Sustentantes & Seleccionados & PromedioGeneral\\\\\n",
       "\\hline\n",
       "\t3 & AGUASCALIENTES                                  & UNIV. AUT. DE AGUASCALIENTES                    & 265                                             & 100                                             & 67.93                                          \\\\\n",
       "\t4 & AGUASCALIENTES                                  & UNIV. CUAUHTEMOC - CAMPUS AGUASCALIENTES        & 79                                              & 20                                              & 65.12                                          \\\\\n",
       "\t5 & BAJA CALIFORNIA                                 & CENTRO EST. UNIV. XOCHICALCO, U. ENSENADA       & 264                                             & 48                                              & 61.20                                          \\\\\n",
       "\t6 & BAJA CALIFORNIA                                 & CENTRO EST. UNIV. XOCHICALCO, U. TIJUANA        & 157                                             & 31                                              & 63.26                                          \\\\\n",
       "\t7 & BAJA CALIFORNIA                                 & UNIV. AUT. DE B.C. - CAMPUS VALLE DE LAS PALMAS & 157                                             & 29                                              & 64.22                                          \\\\\n",
       "\t8 & BAJA CALIFORNIA                                 & UNIV. AUT. DE B.C., U. ENSENADA                 & 206                                             & 57                                              & 65.27                                          \\\\\n",
       "\\end{tabular}\n"
      ],
      "text/markdown": [
       "\n",
       "| <!--/--> | Entidad Federativa | Universidad | Sustentantes | Seleccionados | PromedioGeneral | \n",
       "|---|---|---|---|---|---|\n",
       "| 3 | AGUASCALIENTES                                  | UNIV. AUT. DE AGUASCALIENTES                    | 265                                             | 100                                             | 67.93                                           | \n",
       "| 4 | AGUASCALIENTES                                  | UNIV. CUAUHTEMOC - CAMPUS AGUASCALIENTES        | 79                                              | 20                                              | 65.12                                           | \n",
       "| 5 | BAJA CALIFORNIA                                 | CENTRO EST. UNIV. XOCHICALCO, U. ENSENADA       | 264                                             | 48                                              | 61.20                                           | \n",
       "| 6 | BAJA CALIFORNIA                                 | CENTRO EST. UNIV. XOCHICALCO, U. TIJUANA        | 157                                             | 31                                              | 63.26                                           | \n",
       "| 7 | BAJA CALIFORNIA                                 | UNIV. AUT. DE B.C. - CAMPUS VALLE DE LAS PALMAS | 157                                             | 29                                              | 64.22                                           | \n",
       "| 8 | BAJA CALIFORNIA                                 | UNIV. AUT. DE B.C., U. ENSENADA                 | 206                                             | 57                                              | 65.27                                           | \n",
       "\n",
       "\n"
      ],
      "text/plain": [
       "  Entidad Federativa Universidad                                    \n",
       "3 AGUASCALIENTES     UNIV. AUT. DE AGUASCALIENTES                   \n",
       "4 AGUASCALIENTES     UNIV. CUAUHTEMOC - CAMPUS AGUASCALIENTES       \n",
       "5 BAJA CALIFORNIA    CENTRO EST. UNIV. XOCHICALCO, U. ENSENADA      \n",
       "6 BAJA CALIFORNIA    CENTRO EST. UNIV. XOCHICALCO, U. TIJUANA       \n",
       "7 BAJA CALIFORNIA    UNIV. AUT. DE B.C. - CAMPUS VALLE DE LAS PALMAS\n",
       "8 BAJA CALIFORNIA    UNIV. AUT. DE B.C., U. ENSENADA                \n",
       "  Sustentantes Seleccionados PromedioGeneral\n",
       "3 265          100           67.93          \n",
       "4 79           20            65.12          \n",
       "5 264          48            61.20          \n",
       "6 157          31            63.26          \n",
       "7 157          29            64.22          \n",
       "8 206          57            65.27          "
      ]
     },
     "metadata": {},
     "output_type": "display_data"
    }
   ],
   "source": [
    "names(d) <- d[2,]\n",
    "d <- d[3:dim(d)[1],]\n",
    "names(d)[2] <- \"Universidad\"\n",
    "names(d)[5] <- \"PromedioGeneral\"\n",
    "head(d)"
   ]
  },
  {
   "cell_type": "code",
   "execution_count": 7,
   "metadata": {},
   "outputs": [
    {
     "name": "stdout",
     "output_type": "stream",
     "text": [
      "'data.frame':\t121 obs. of  5 variables:\n",
      " $ Entidad Federativa: chr  \"AGUASCALIENTES\" \"AGUASCALIENTES\" \"BAJA CALIFORNIA\" \"BAJA CALIFORNIA\" ...\n",
      " $ Universidad       : chr  \"UNIV. AUT. DE AGUASCALIENTES\" \"UNIV. CUAUHTEMOC - CAMPUS AGUASCALIENTES\" \"CENTRO EST. UNIV. XOCHICALCO, U. ENSENADA\" \"CENTRO EST. UNIV. XOCHICALCO, U. TIJUANA\" ...\n",
      " $ Sustentantes      : chr  \"265\" \"79\" \"264\" \"157\" ...\n",
      " $ Seleccionados     : chr  \"100\" \"20\" \"48\" \"31\" ...\n",
      " $ PromedioGeneral   : chr  \"67.93\" \"65.12\" \"61.20\" \"63.26\" ...\n"
     ]
    }
   ],
   "source": [
    "str(d)"
   ]
  },
  {
   "cell_type": "code",
   "execution_count": 8,
   "metadata": {},
   "outputs": [
    {
     "name": "stdout",
     "output_type": "stream",
     "text": [
      "'data.frame':\t121 obs. of  5 variables:\n",
      " $ Entidad Federativa: chr  \"AGUASCALIENTES\" \"AGUASCALIENTES\" \"BAJA CALIFORNIA\" \"BAJA CALIFORNIA\" ...\n",
      " $ Universidad       : chr  \"UNIV. AUT. DE AGUASCALIENTES\" \"UNIV. CUAUHTEMOC - CAMPUS AGUASCALIENTES\" \"CENTRO EST. UNIV. XOCHICALCO, U. ENSENADA\" \"CENTRO EST. UNIV. XOCHICALCO, U. TIJUANA\" ...\n",
      " $ Sustentantes      : num  265 79 264 157 157 206 283 247 65 211 ...\n",
      " $ Seleccionados     : num  100 20 48 31 29 57 105 72 15 39 ...\n",
      " $ PromedioGeneral   : num  67.9 65.1 61.2 63.3 64.2 ...\n"
     ]
    },
    {
     "data": {
      "text/html": [
       "<table>\n",
       "<thead><tr><th></th><th scope=col>Entidad Federativa</th><th scope=col>Universidad</th><th scope=col>Sustentantes</th><th scope=col>Seleccionados</th><th scope=col>PromedioGeneral</th></tr></thead>\n",
       "<tbody>\n",
       "\t<tr><th scope=row>3</th><td>AGUASCALIENTES                                 </td><td>UNIV. AUT. DE AGUASCALIENTES                   </td><td>265                                            </td><td>100                                            </td><td>67.93                                          </td></tr>\n",
       "\t<tr><th scope=row>4</th><td>AGUASCALIENTES                                 </td><td>UNIV. CUAUHTEMOC - CAMPUS AGUASCALIENTES       </td><td> 79                                            </td><td> 20                                            </td><td>65.12                                          </td></tr>\n",
       "\t<tr><th scope=row>5</th><td>BAJA CALIFORNIA                                </td><td>CENTRO EST. UNIV. XOCHICALCO, U. ENSENADA      </td><td>264                                            </td><td> 48                                            </td><td>61.20                                          </td></tr>\n",
       "\t<tr><th scope=row>6</th><td>BAJA CALIFORNIA                                </td><td>CENTRO EST. UNIV. XOCHICALCO, U. TIJUANA       </td><td>157                                            </td><td> 31                                            </td><td>63.26                                          </td></tr>\n",
       "\t<tr><th scope=row>7</th><td>BAJA CALIFORNIA                                </td><td>UNIV. AUT. DE B.C. - CAMPUS VALLE DE LAS PALMAS</td><td>157                                            </td><td> 29                                            </td><td>64.22                                          </td></tr>\n",
       "\t<tr><th scope=row>8</th><td>BAJA CALIFORNIA                                </td><td>UNIV. AUT. DE B.C., U. ENSENADA                </td><td>206                                            </td><td> 57                                            </td><td>65.27                                          </td></tr>\n",
       "</tbody>\n",
       "</table>\n"
      ],
      "text/latex": [
       "\\begin{tabular}{r|lllll}\n",
       "  & Entidad Federativa & Universidad & Sustentantes & Seleccionados & PromedioGeneral\\\\\n",
       "\\hline\n",
       "\t3 & AGUASCALIENTES                                  & UNIV. AUT. DE AGUASCALIENTES                    & 265                                             & 100                                             & 67.93                                          \\\\\n",
       "\t4 & AGUASCALIENTES                                  & UNIV. CUAUHTEMOC - CAMPUS AGUASCALIENTES        &  79                                             &  20                                             & 65.12                                          \\\\\n",
       "\t5 & BAJA CALIFORNIA                                 & CENTRO EST. UNIV. XOCHICALCO, U. ENSENADA       & 264                                             &  48                                             & 61.20                                          \\\\\n",
       "\t6 & BAJA CALIFORNIA                                 & CENTRO EST. UNIV. XOCHICALCO, U. TIJUANA        & 157                                             &  31                                             & 63.26                                          \\\\\n",
       "\t7 & BAJA CALIFORNIA                                 & UNIV. AUT. DE B.C. - CAMPUS VALLE DE LAS PALMAS & 157                                             &  29                                             & 64.22                                          \\\\\n",
       "\t8 & BAJA CALIFORNIA                                 & UNIV. AUT. DE B.C., U. ENSENADA                 & 206                                             &  57                                             & 65.27                                          \\\\\n",
       "\\end{tabular}\n"
      ],
      "text/markdown": [
       "\n",
       "| <!--/--> | Entidad Federativa | Universidad | Sustentantes | Seleccionados | PromedioGeneral | \n",
       "|---|---|---|---|---|---|\n",
       "| 3 | AGUASCALIENTES                                  | UNIV. AUT. DE AGUASCALIENTES                    | 265                                             | 100                                             | 67.93                                           | \n",
       "| 4 | AGUASCALIENTES                                  | UNIV. CUAUHTEMOC - CAMPUS AGUASCALIENTES        |  79                                             |  20                                             | 65.12                                           | \n",
       "| 5 | BAJA CALIFORNIA                                 | CENTRO EST. UNIV. XOCHICALCO, U. ENSENADA       | 264                                             |  48                                             | 61.20                                           | \n",
       "| 6 | BAJA CALIFORNIA                                 | CENTRO EST. UNIV. XOCHICALCO, U. TIJUANA        | 157                                             |  31                                             | 63.26                                           | \n",
       "| 7 | BAJA CALIFORNIA                                 | UNIV. AUT. DE B.C. - CAMPUS VALLE DE LAS PALMAS | 157                                             |  29                                             | 64.22                                           | \n",
       "| 8 | BAJA CALIFORNIA                                 | UNIV. AUT. DE B.C., U. ENSENADA                 | 206                                             |  57                                             | 65.27                                           | \n",
       "\n",
       "\n"
      ],
      "text/plain": [
       "  Entidad Federativa Universidad                                    \n",
       "3 AGUASCALIENTES     UNIV. AUT. DE AGUASCALIENTES                   \n",
       "4 AGUASCALIENTES     UNIV. CUAUHTEMOC - CAMPUS AGUASCALIENTES       \n",
       "5 BAJA CALIFORNIA    CENTRO EST. UNIV. XOCHICALCO, U. ENSENADA      \n",
       "6 BAJA CALIFORNIA    CENTRO EST. UNIV. XOCHICALCO, U. TIJUANA       \n",
       "7 BAJA CALIFORNIA    UNIV. AUT. DE B.C. - CAMPUS VALLE DE LAS PALMAS\n",
       "8 BAJA CALIFORNIA    UNIV. AUT. DE B.C., U. ENSENADA                \n",
       "  Sustentantes Seleccionados PromedioGeneral\n",
       "3 265          100           67.93          \n",
       "4  79           20           65.12          \n",
       "5 264           48           61.20          \n",
       "6 157           31           63.26          \n",
       "7 157           29           64.22          \n",
       "8 206           57           65.27          "
      ]
     },
     "metadata": {},
     "output_type": "display_data"
    }
   ],
   "source": [
    "chunkAsType <- function(d, columns,type=as.numeric){\n",
    "    d[columns] <- lapply(d[columns],type)\n",
    "    return(d)\n",
    "}\n",
    "d <- chunkAsType(d,c(\"Sustentantes\",\"Seleccionados\",\"PromedioGeneral\"))\n",
    "str(d)\n",
    "head(d)"
   ]
  },
  {
   "cell_type": "code",
   "execution_count": 38,
   "metadata": {},
   "outputs": [
    {
     "data": {
      "text/html": [
       "8333"
      ],
      "text/latex": [
       "8333"
      ],
      "text/markdown": [
       "8333"
      ],
      "text/plain": [
       "[1] 8333"
      ]
     },
     "metadata": {},
     "output_type": "display_data"
    },
    {
     "data": {
      "text/html": [
       "40081"
      ],
      "text/latex": [
       "40081"
      ],
      "text/markdown": [
       "40081"
      ],
      "text/plain": [
       "[1] 40081"
      ]
     },
     "metadata": {},
     "output_type": "display_data"
    },
    {
     "data": {
      "text/html": [
       "5024/24165"
      ],
      "text/latex": [
       "5024/24165"
      ],
      "text/markdown": [
       "5024/24165"
      ],
      "text/plain": [
       "[1] 5024/24165"
      ]
     },
     "metadata": {},
     "output_type": "display_data"
    },
    {
     "data": {
      "text/html": [
       "1/5"
      ],
      "text/latex": [
       "1/5"
      ],
      "text/markdown": [
       "1/5"
      ],
      "text/plain": [
       "[1] 1/5"
      ]
     },
     "metadata": {},
     "output_type": "display_data"
    },
    {
     "data": {
      "text/html": [
       "3/10"
      ],
      "text/latex": [
       "3/10"
      ],
      "text/markdown": [
       "3/10"
      ],
      "text/plain": [
       "[1] 3/10"
      ]
     },
     "metadata": {},
     "output_type": "display_data"
    }
   ],
   "source": [
    "library(MASS)\n",
    "sum(d$Seleccionados)\n",
    "sum(d$Sustentantes)\n",
    "fractions(sum(d$Seleccionados)/sum(d$Sustentantes))\n",
    "fractions(0.20)\n",
    "fractions(0.3)"
   ]
  },
  {
   "cell_type": "code",
   "execution_count": 36,
   "metadata": {},
   "outputs": [
    {
     "data": {
      "text/plain": [
       "   Min. 1st Qu.  Median    Mean 3rd Qu.    Max. \n",
       " 0.0000  0.1181  0.1797  0.1878  0.2404  0.7872 "
      ]
     },
     "metadata": {},
     "output_type": "display_data"
    },
    {
     "data": {
      "image/png": "[encoded data removed]",
      "text/plain": [
       "Plot with title “ENARM 2018”"
      ]
     },
     "metadata": {},
     "output_type": "display_data"
    }
   ],
   "source": [
    "efi <- d$Seleccionados / d$Sustentantes\n",
    "summary(efi)\n",
    "hist(efi,xlab = \"Efficency of the med schools\" ,main=\"ENARM 2018\",\n",
    "     border = F, col = \"darkblue\",labels = T,ylim = c(0,60))"
   ]
  },
  {
   "cell_type": "code",
   "execution_count": 37,
   "metadata": {},
   "outputs": [
    {
     "data": {
      "text/html": [
       "<strong>png:</strong> 2"
      ],
      "text/latex": [
       "\\textbf{png:} 2"
      ],
      "text/markdown": [
       "**png:** 2"
      ],
      "text/plain": [
       "png \n",
       "  2 "
      ]
     },
     "metadata": {},
     "output_type": "display_data"
    }
   ],
   "source": [
    "png(filename = \"fig-01.png\",width = ancho, height = ancho/phi,units = \"in\", res = 600)\n",
    "hist(efi,xlab = \"Efficency of the med schools\" ,main=\"ENARM 2018\",\n",
    "     border = F, col = \"darkblue\",labels = T,ylim = c(0,60))\n",
    "dev.off()"
   ]
  },
  {
   "cell_type": "code",
   "execution_count": 11,
   "metadata": {},
   "outputs": [
    {
     "data": {
      "text/html": [
       "0.240384615384615"
      ],
      "text/latex": [
       "0.240384615384615"
      ],
      "text/markdown": [
       "0.240384615384615"
      ],
      "text/plain": [
       "[1] 0.2403846"
      ]
     },
     "metadata": {},
     "output_type": "display_data"
    }
   ],
   "source": [
    "tercerquartil <- summary(efi)[[5]]\n",
    "tercerquartil"
   ]
  },
  {
   "cell_type": "code",
   "execution_count": 12,
   "metadata": {},
   "outputs": [
    {
     "data": {
      "text/html": [
       "<table>\n",
       "<thead><tr><th></th><th scope=col>Entidad Federativa</th><th scope=col>Universidad</th><th scope=col>Sustentantes</th><th scope=col>Seleccionados</th><th scope=col>PromedioGeneral</th><th scope=col>efi</th></tr></thead>\n",
       "<tbody>\n",
       "\t<tr><th scope=row>3</th><td>AGUASCALIENTES                                 </td><td>UNIV. AUT. DE AGUASCALIENTES                   </td><td>265                                            </td><td>100                                            </td><td>67.93                                          </td><td>0.3773585                                      </td></tr>\n",
       "\t<tr><th scope=row>4</th><td>AGUASCALIENTES                                 </td><td>UNIV. CUAUHTEMOC - CAMPUS AGUASCALIENTES       </td><td> 79                                            </td><td> 20                                            </td><td>65.12                                          </td><td>0.2531646                                      </td></tr>\n",
       "\t<tr><th scope=row>5</th><td>BAJA CALIFORNIA                                </td><td>CENTRO EST. UNIV. XOCHICALCO, U. ENSENADA      </td><td>264                                            </td><td> 48                                            </td><td>61.20                                          </td><td>0.1818182                                      </td></tr>\n",
       "\t<tr><th scope=row>6</th><td>BAJA CALIFORNIA                                </td><td>CENTRO EST. UNIV. XOCHICALCO, U. TIJUANA       </td><td>157                                            </td><td> 31                                            </td><td>63.26                                          </td><td>0.1974522                                      </td></tr>\n",
       "\t<tr><th scope=row>7</th><td>BAJA CALIFORNIA                                </td><td>UNIV. AUT. DE B.C. - CAMPUS VALLE DE LAS PALMAS</td><td>157                                            </td><td> 29                                            </td><td>64.22                                          </td><td>0.1847134                                      </td></tr>\n",
       "\t<tr><th scope=row>8</th><td>BAJA CALIFORNIA                                </td><td>UNIV. AUT. DE B.C., U. ENSENADA                </td><td>206                                            </td><td> 57                                            </td><td>65.27                                          </td><td>0.2766990                                      </td></tr>\n",
       "</tbody>\n",
       "</table>\n"
      ],
      "text/latex": [
       "\\begin{tabular}{r|llllll}\n",
       "  & Entidad Federativa & Universidad & Sustentantes & Seleccionados & PromedioGeneral & efi\\\\\n",
       "\\hline\n",
       "\t3 & AGUASCALIENTES                                  & UNIV. AUT. DE AGUASCALIENTES                    & 265                                             & 100                                             & 67.93                                           & 0.3773585                                      \\\\\n",
       "\t4 & AGUASCALIENTES                                  & UNIV. CUAUHTEMOC - CAMPUS AGUASCALIENTES        &  79                                             &  20                                             & 65.12                                           & 0.2531646                                      \\\\\n",
       "\t5 & BAJA CALIFORNIA                                 & CENTRO EST. UNIV. XOCHICALCO, U. ENSENADA       & 264                                             &  48                                             & 61.20                                           & 0.1818182                                      \\\\\n",
       "\t6 & BAJA CALIFORNIA                                 & CENTRO EST. UNIV. XOCHICALCO, U. TIJUANA        & 157                                             &  31                                             & 63.26                                           & 0.1974522                                      \\\\\n",
       "\t7 & BAJA CALIFORNIA                                 & UNIV. AUT. DE B.C. - CAMPUS VALLE DE LAS PALMAS & 157                                             &  29                                             & 64.22                                           & 0.1847134                                      \\\\\n",
       "\t8 & BAJA CALIFORNIA                                 & UNIV. AUT. DE B.C., U. ENSENADA                 & 206                                             &  57                                             & 65.27                                           & 0.2766990                                      \\\\\n",
       "\\end{tabular}\n"
      ],
      "text/markdown": [
       "\n",
       "| <!--/--> | Entidad Federativa | Universidad | Sustentantes | Seleccionados | PromedioGeneral | efi | \n",
       "|---|---|---|---|---|---|\n",
       "| 3 | AGUASCALIENTES                                  | UNIV. AUT. DE AGUASCALIENTES                    | 265                                             | 100                                             | 67.93                                           | 0.3773585                                       | \n",
       "| 4 | AGUASCALIENTES                                  | UNIV. CUAUHTEMOC - CAMPUS AGUASCALIENTES        |  79                                             |  20                                             | 65.12                                           | 0.2531646                                       | \n",
       "| 5 | BAJA CALIFORNIA                                 | CENTRO EST. UNIV. XOCHICALCO, U. ENSENADA       | 264                                             |  48                                             | 61.20                                           | 0.1818182                                       | \n",
       "| 6 | BAJA CALIFORNIA                                 | CENTRO EST. UNIV. XOCHICALCO, U. TIJUANA        | 157                                             |  31                                             | 63.26                                           | 0.1974522                                       | \n",
       "| 7 | BAJA CALIFORNIA                                 | UNIV. AUT. DE B.C. - CAMPUS VALLE DE LAS PALMAS | 157                                             |  29                                             | 64.22                                           | 0.1847134                                       | \n",
       "| 8 | BAJA CALIFORNIA                                 | UNIV. AUT. DE B.C., U. ENSENADA                 | 206                                             |  57                                             | 65.27                                           | 0.2766990                                       | \n",
       "\n",
       "\n"
      ],
      "text/plain": [
       "  Entidad Federativa Universidad                                    \n",
       "3 AGUASCALIENTES     UNIV. AUT. DE AGUASCALIENTES                   \n",
       "4 AGUASCALIENTES     UNIV. CUAUHTEMOC - CAMPUS AGUASCALIENTES       \n",
       "5 BAJA CALIFORNIA    CENTRO EST. UNIV. XOCHICALCO, U. ENSENADA      \n",
       "6 BAJA CALIFORNIA    CENTRO EST. UNIV. XOCHICALCO, U. TIJUANA       \n",
       "7 BAJA CALIFORNIA    UNIV. AUT. DE B.C. - CAMPUS VALLE DE LAS PALMAS\n",
       "8 BAJA CALIFORNIA    UNIV. AUT. DE B.C., U. ENSENADA                \n",
       "  Sustentantes Seleccionados PromedioGeneral efi      \n",
       "3 265          100           67.93           0.3773585\n",
       "4  79           20           65.12           0.2531646\n",
       "5 264           48           61.20           0.1818182\n",
       "6 157           31           63.26           0.1974522\n",
       "7 157           29           64.22           0.1847134\n",
       "8 206           57           65.27           0.2766990"
      ]
     },
     "metadata": {},
     "output_type": "display_data"
    }
   ],
   "source": [
    "d <- cbind(d,efi)\n",
    "head(d)"
   ]
  },
  {
   "cell_type": "code",
   "execution_count": 44,
   "metadata": {},
   "outputs": [
    {
     "data": {
      "text/html": [
       "<table>\n",
       "<thead><tr><th></th><th scope=col>Entidad Federativa</th><th scope=col>Universidad</th><th scope=col>Sustentantes</th><th scope=col>Seleccionados</th><th scope=col>PromedioGeneral</th><th scope=col>efi</th><th scope=col>ispublic</th></tr></thead>\n",
       "<tbody>\n",
       "\t<tr><th scope=row>31</th><td>CIUDAD DE MÉXICO                   </td><td>UNIV. PANAMERICANA                 </td><td>  47                               </td><td> 37                                </td><td>76.70                              </td><td>0.7872340                          </td><td>private                            </td></tr>\n",
       "\t<tr><th scope=row>90</th><td>SAN LUIS POTOSÍ                    </td><td>UNIV. AUT. DE SAN LUIS POTOSÍ      </td><td> 228                               </td><td> 92                                </td><td>70.09                              </td><td>0.4035088                          </td><td>public                             </td></tr>\n",
       "\t<tr><th scope=row>3</th><td>AGUASCALIENTES                     </td><td>UNIV. AUT. DE AGUASCALIENTES       </td><td> 265                               </td><td>100                                </td><td>67.93                              </td><td>0.3773585                          </td><td>public                             </td></tr>\n",
       "\t<tr><th scope=row>9</th><td>BAJA CALIFORNIA                    </td><td>UNIV. AUT. DE B.C., U. MEXICALI    </td><td> 283                               </td><td>105                                </td><td>67.95                              </td><td>0.3710247                          </td><td>public                             </td></tr>\n",
       "\t<tr><th scope=row>34</th><td>COAHUILA                           </td><td>UNIV. AUT. DE COAHUILA, U. TORREÓN </td><td> 178                               </td><td> 66                                </td><td>68.43                              </td><td>0.3707865                          </td><td>public                             </td></tr>\n",
       "\t<tr><th scope=row>33</th><td>COAHUILA                           </td><td>UNIV. AUT. DE COAHUILA, U. SALTILLO</td><td> 123                               </td><td> 45                                </td><td>69.27                              </td><td>0.3658537                          </td><td>public                             </td></tr>\n",
       "\t<tr><th scope=row>75</th><td>NUEVO LEÓN                         </td><td>INST. TECNOLÓGICO EST. SUP. MTY.   </td><td> 255                               </td><td> 89                                </td><td>70.75                              </td><td>0.3490196                          </td><td>private                            </td></tr>\n",
       "\t<tr><th scope=row>30</th><td>CIUDAD DE MÉXICO                   </td><td>UNIV. LA SALLE                     </td><td> 376                               </td><td>126                                </td><td>69.22                              </td><td>0.3351064                          </td><td>private                            </td></tr>\n",
       "\t<tr><th scope=row>76</th><td>NUEVO LEÓN                         </td><td>UNIV. AUT. DE NUEVO LEÓN           </td><td>1428                               </td><td>448                                </td><td>66.04                              </td><td>0.3137255                          </td><td>public                             </td></tr>\n",
       "\t<tr><th scope=row>58</th><td>JALISCO                            </td><td>UNIV. DE GUADALAJARA               </td><td>1564                               </td><td>489                                </td><td>66.18                              </td><td>0.3126598                          </td><td>public                             </td></tr>\n",
       "</tbody>\n",
       "</table>\n"
      ],
      "text/latex": [
       "\\begin{tabular}{r|lllllll}\n",
       "  & Entidad Federativa & Universidad & Sustentantes & Seleccionados & PromedioGeneral & efi & ispublic\\\\\n",
       "\\hline\n",
       "\t31 & CIUDAD DE MÉXICO                    & UNIV. PANAMERICANA                  &   47                                &  37                                 & 76.70                               & 0.7872340                           & private                            \\\\\n",
       "\t90 & SAN LUIS POTOSÍ                     & UNIV. AUT. DE SAN LUIS POTOSÍ       &  228                                &  92                                 & 70.09                               & 0.4035088                           & public                             \\\\\n",
       "\t3 & AGUASCALIENTES                      & UNIV. AUT. DE AGUASCALIENTES        &  265                                & 100                                 & 67.93                               & 0.3773585                           & public                             \\\\\n",
       "\t9 & BAJA CALIFORNIA                     & UNIV. AUT. DE B.C., U. MEXICALI     &  283                                & 105                                 & 67.95                               & 0.3710247                           & public                             \\\\\n",
       "\t34 & COAHUILA                            & UNIV. AUT. DE COAHUILA, U. TORREÓN  &  178                                &  66                                 & 68.43                               & 0.3707865                           & public                             \\\\\n",
       "\t33 & COAHUILA                            & UNIV. AUT. DE COAHUILA, U. SALTILLO &  123                                &  45                                 & 69.27                               & 0.3658537                           & public                             \\\\\n",
       "\t75 & NUEVO LEÓN                          & INST. TECNOLÓGICO EST. SUP. MTY.    &  255                                &  89                                 & 70.75                               & 0.3490196                           & private                            \\\\\n",
       "\t30 & CIUDAD DE MÉXICO                    & UNIV. LA SALLE                      &  376                                & 126                                 & 69.22                               & 0.3351064                           & private                            \\\\\n",
       "\t76 & NUEVO LEÓN                          & UNIV. AUT. DE NUEVO LEÓN            & 1428                                & 448                                 & 66.04                               & 0.3137255                           & public                             \\\\\n",
       "\t58 & JALISCO                             & UNIV. DE GUADALAJARA                & 1564                                & 489                                 & 66.18                               & 0.3126598                           & public                             \\\\\n",
       "\\end{tabular}\n"
      ],
      "text/markdown": [
       "\n",
       "| <!--/--> | Entidad Federativa | Universidad | Sustentantes | Seleccionados | PromedioGeneral | efi | ispublic | \n",
       "|---|---|---|---|---|---|---|---|---|---|\n",
       "| 31 | CIUDAD DE MÉXICO                    | UNIV. PANAMERICANA                  |   47                                |  37                                 | 76.70                               | 0.7872340                           | private                             | \n",
       "| 90 | SAN LUIS POTOSÍ                     | UNIV. AUT. DE SAN LUIS POTOSÍ       |  228                                |  92                                 | 70.09                               | 0.4035088                           | public                              | \n",
       "| 3 | AGUASCALIENTES                      | UNIV. AUT. DE AGUASCALIENTES        |  265                                | 100                                 | 67.93                               | 0.3773585                           | public                              | \n",
       "| 9 | BAJA CALIFORNIA                     | UNIV. AUT. DE B.C., U. MEXICALI     |  283                                | 105                                 | 67.95                               | 0.3710247                           | public                              | \n",
       "| 34 | COAHUILA                            | UNIV. AUT. DE COAHUILA, U. TORREÓN  |  178                                |  66                                 | 68.43                               | 0.3707865                           | public                              | \n",
       "| 33 | COAHUILA                            | UNIV. AUT. DE COAHUILA, U. SALTILLO |  123                                |  45                                 | 69.27                               | 0.3658537                           | public                              | \n",
       "| 75 | NUEVO LEÓN                          | INST. TECNOLÓGICO EST. SUP. MTY.    |  255                                |  89                                 | 70.75                               | 0.3490196                           | private                             | \n",
       "| 30 | CIUDAD DE MÉXICO                    | UNIV. LA SALLE                      |  376                                | 126                                 | 69.22                               | 0.3351064                           | private                             | \n",
       "| 76 | NUEVO LEÓN                          | UNIV. AUT. DE NUEVO LEÓN            | 1428                                | 448                                 | 66.04                               | 0.3137255                           | public                              | \n",
       "| 58 | JALISCO                             | UNIV. DE GUADALAJARA                | 1564                                | 489                                 | 66.18                               | 0.3126598                           | public                              | \n",
       "\n",
       "\n"
      ],
      "text/plain": [
       "   Entidad Federativa Universidad                         Sustentantes\n",
       "31 CIUDAD DE MÉXICO   UNIV. PANAMERICANA                    47        \n",
       "90 SAN LUIS POTOSÍ    UNIV. AUT. DE SAN LUIS POTOSÍ        228        \n",
       "3  AGUASCALIENTES     UNIV. AUT. DE AGUASCALIENTES         265        \n",
       "9  BAJA CALIFORNIA    UNIV. AUT. DE B.C., U. MEXICALI      283        \n",
       "34 COAHUILA           UNIV. AUT. DE COAHUILA, U. TORREÓN   178        \n",
       "33 COAHUILA           UNIV. AUT. DE COAHUILA, U. SALTILLO  123        \n",
       "75 NUEVO LEÓN         INST. TECNOLÓGICO EST. SUP. MTY.     255        \n",
       "30 CIUDAD DE MÉXICO   UNIV. LA SALLE                       376        \n",
       "76 NUEVO LEÓN         UNIV. AUT. DE NUEVO LEÓN            1428        \n",
       "58 JALISCO            UNIV. DE GUADALAJARA                1564        \n",
       "   Seleccionados PromedioGeneral efi       ispublic\n",
       "31  37           76.70           0.7872340 private \n",
       "90  92           70.09           0.4035088 public  \n",
       "3  100           67.93           0.3773585 public  \n",
       "9  105           67.95           0.3710247 public  \n",
       "34  66           68.43           0.3707865 public  \n",
       "33  45           69.27           0.3658537 public  \n",
       "75  89           70.75           0.3490196 private \n",
       "30 126           69.22           0.3351064 private \n",
       "76 448           66.04           0.3137255 public  \n",
       "58 489           66.18           0.3126598 public  "
      ]
     },
     "metadata": {},
     "output_type": "display_data"
    }
   ],
   "source": [
    "best <- d[d$efi >= tercerquartil,]\n",
    "best <- best [order(best$efi,decreasing = T),]\n",
    "head(best,10)"
   ]
  },
  {
   "cell_type": "code",
   "execution_count": 14,
   "metadata": {},
   "outputs": [
    {
     "data": {
      "text/plain": [
       "\n",
       "Call:\n",
       "lm(formula = d$efi ~ d$PromedioGeneral)\n",
       "\n",
       "Residuals:\n",
       "     Min       1Q   Median       3Q      Max \n",
       "-0.13685 -0.02629 -0.00194  0.02269  0.28490 \n",
       "\n",
       "Coefficients:\n",
       "                   Estimate Std. Error t value Pr(>|t|)    \n",
       "(Intercept)       -1.147699   0.068783  -16.69   <2e-16 ***\n",
       "d$PromedioGeneral  0.021513   0.001106   19.46   <2e-16 ***\n",
       "---\n",
       "Signif. codes:  0 ‘***’ 0.001 ‘**’ 0.01 ‘*’ 0.05 ‘.’ 0.1 ‘ ’ 1\n",
       "\n",
       "Residual standard error: 0.04981 on 119 degrees of freedom\n",
       "Multiple R-squared:  0.7609,\tAdjusted R-squared:  0.7589 \n",
       "F-statistic: 378.6 on 1 and 119 DF,  p-value: < 2.2e-16\n"
      ]
     },
     "metadata": {},
     "output_type": "display_data"
    },
    {
     "data": {
      "image/png": "[encoded data removed]",
      "text/plain": [
       "plot without title"
      ]
     },
     "metadata": {},
     "output_type": "display_data"
    }
   ],
   "source": [
    "m <- lm( d$efi ~ d$PromedioGeneral )\n",
    "summary(m)\n",
    "plot(d$efi ~ d$PromedioGeneral,ylab = \"Eficiencia\", xlab = \"Promedio General\")\n",
    "abline(m$coefficients[1],m$coefficients[2])"
   ]
  },
  {
   "cell_type": "code",
   "execution_count": 15,
   "metadata": {},
   "outputs": [
    {
     "data": {},
     "metadata": {},
     "output_type": "display_data"
    },
    {
     "data": {
      "image/png": "[encoded data removed]",
      "text/plain": [
       "plot without title"
      ]
     },
     "metadata": {},
     "output_type": "display_data"
    }
   ],
   "source": [
    "library(ggplot2)\n",
    "g <- ggplot(d, aes(x = PromedioGeneral, y = efi)) + \n",
    "  geom_point() +\n",
    "  stat_smooth(method = \"lm\", col = \"red\")+labs(y=\"Eficiencia de las Universidades\",x=\"Promedio General Obtenido\")\n",
    "g"
   ]
  },
  {
   "cell_type": "code",
   "execution_count": 16,
   "metadata": {},
   "outputs": [
    {
     "data": {},
     "metadata": {},
     "output_type": "display_data"
    },
    {
     "data": {
      "text/html": [
       "<strong>png:</strong> 2"
      ],
      "text/latex": [
       "\\textbf{png:} 2"
      ],
      "text/markdown": [
       "**png:** 2"
      ],
      "text/plain": [
       "png \n",
       "  2 "
      ]
     },
     "metadata": {},
     "output_type": "display_data"
    }
   ],
   "source": [
    "png(filename = \"fig-02.png\",width = ancho, height = ancho/phi,units = \"in\", res = 600)\n",
    "g\n",
    "dev.off()"
   ]
  },
  {
   "cell_type": "code",
   "execution_count": 17,
   "metadata": {},
   "outputs": [
    {
     "data": {
      "text/html": [
       "<ol class=list-inline>\n",
       "\t<li>121</li>\n",
       "\t<li>6</li>\n",
       "</ol>\n"
      ],
      "text/latex": [
       "\\begin{enumerate*}\n",
       "\\item 121\n",
       "\\item 6\n",
       "\\end{enumerate*}\n"
      ],
      "text/markdown": [
       "1. 121\n",
       "2. 6\n",
       "\n",
       "\n"
      ],
      "text/plain": [
       "[1] 121   6"
      ]
     },
     "metadata": {},
     "output_type": "display_data"
    },
    {
     "name": "stdout",
     "output_type": "stream",
     "text": [
      "'data.frame':\t121 obs. of  6 variables:\n",
      " $ Entidad Federativa: chr  \"AGUASCALIENTES\" \"AGUASCALIENTES\" \"BAJA CALIFORNIA\" \"BAJA CALIFORNIA\" ...\n",
      " $ Universidad       : chr  \"UNIV. AUT. DE AGUASCALIENTES\" \"UNIV. CUAUHTEMOC - CAMPUS AGUASCALIENTES\" \"CENTRO EST. UNIV. XOCHICALCO, U. ENSENADA\" \"CENTRO EST. UNIV. XOCHICALCO, U. TIJUANA\" ...\n",
      " $ Sustentantes      : num  265 79 264 157 157 206 283 247 65 211 ...\n",
      " $ Seleccionados     : num  100 20 48 31 29 57 105 72 15 39 ...\n",
      " $ PromedioGeneral   : num  67.9 65.1 61.2 63.3 64.2 ...\n",
      " $ efi               : num  0.377 0.253 0.182 0.197 0.185 ...\n"
     ]
    }
   ],
   "source": [
    "dim(d)\n",
    "str(d)"
   ]
  },
  {
   "cell_type": "code",
   "execution_count": 18,
   "metadata": {},
   "outputs": [
    {
     "name": "stdout",
     "output_type": "stream",
     "text": [
      "'data.frame':\t121 obs. of  7 variables:\n",
      " $ Entidad Federativa: chr  \"AGUASCALIENTES\" \"AGUASCALIENTES\" \"BAJA CALIFORNIA\" \"BAJA CALIFORNIA\" ...\n",
      " $ Universidad       : chr  \"UNIV. AUT. DE AGUASCALIENTES\" \"UNIV. CUAUHTEMOC - CAMPUS AGUASCALIENTES\" \"CENTRO EST. UNIV. XOCHICALCO, U. ENSENADA\" \"CENTRO EST. UNIV. XOCHICALCO, U. TIJUANA\" ...\n",
      " $ Sustentantes      : num  265 79 264 157 157 206 283 247 65 211 ...\n",
      " $ Seleccionados     : num  100 20 48 31 29 57 105 72 15 39 ...\n",
      " $ PromedioGeneral   : num  67.9 65.1 61.2 63.3 64.2 ...\n",
      " $ efi               : num  0.377 0.253 0.182 0.197 0.185 ...\n",
      " $ ispublic          : chr  \"\" \"\" \"\" \"\" ...\n"
     ]
    }
   ],
   "source": [
    "ispublic <- vector(mode = \"character\",length = dim(d)[1])\n",
    "d <- cbind(d,ispublic)\n",
    "d <- chunkAsType(d,\"ispublic\",as.character)\n",
    "str(d)"
   ]
  },
  {
   "cell_type": "code",
   "execution_count": 19,
   "metadata": {},
   "outputs": [
    {
     "data": {
      "text/html": [
       "<table>\n",
       "<thead><tr><th></th><th scope=col>Entidad Federativa</th><th scope=col>Universidad</th><th scope=col>Sustentantes</th><th scope=col>Seleccionados</th><th scope=col>PromedioGeneral</th><th scope=col>efi</th><th scope=col>ispublic</th></tr></thead>\n",
       "<tbody>\n",
       "\t<tr><th scope=row>3</th><td>AGUASCALIENTES                                 </td><td>UNIV. AUT. DE AGUASCALIENTES                   </td><td>265                                            </td><td>100                                            </td><td>67.93                                          </td><td>0.3773585                                      </td><td>public                                         </td></tr>\n",
       "\t<tr><th scope=row>4</th><td>AGUASCALIENTES                                 </td><td>UNIV. CUAUHTEMOC - CAMPUS AGUASCALIENTES       </td><td> 79                                            </td><td> 20                                            </td><td>65.12                                          </td><td>0.2531646                                      </td><td>                                               </td></tr>\n",
       "\t<tr><th scope=row>5</th><td>BAJA CALIFORNIA                                </td><td>CENTRO EST. UNIV. XOCHICALCO, U. ENSENADA      </td><td>264                                            </td><td> 48                                            </td><td>61.20                                          </td><td>0.1818182                                      </td><td>                                               </td></tr>\n",
       "\t<tr><th scope=row>6</th><td>BAJA CALIFORNIA                                </td><td>CENTRO EST. UNIV. XOCHICALCO, U. TIJUANA       </td><td>157                                            </td><td> 31                                            </td><td>63.26                                          </td><td>0.1974522                                      </td><td>                                               </td></tr>\n",
       "\t<tr><th scope=row>7</th><td>BAJA CALIFORNIA                                </td><td>UNIV. AUT. DE B.C. - CAMPUS VALLE DE LAS PALMAS</td><td>157                                            </td><td> 29                                            </td><td>64.22                                          </td><td>0.1847134                                      </td><td>public                                         </td></tr>\n",
       "\t<tr><th scope=row>8</th><td>BAJA CALIFORNIA                                </td><td>UNIV. AUT. DE B.C., U. ENSENADA                </td><td>206                                            </td><td> 57                                            </td><td>65.27                                          </td><td>0.2766990                                      </td><td>public                                         </td></tr>\n",
       "</tbody>\n",
       "</table>\n"
      ],
      "text/latex": [
       "\\begin{tabular}{r|lllllll}\n",
       "  & Entidad Federativa & Universidad & Sustentantes & Seleccionados & PromedioGeneral & efi & ispublic\\\\\n",
       "\\hline\n",
       "\t3 & AGUASCALIENTES                                  & UNIV. AUT. DE AGUASCALIENTES                    & 265                                             & 100                                             & 67.93                                           & 0.3773585                                       & public                                         \\\\\n",
       "\t4 & AGUASCALIENTES                                  & UNIV. CUAUHTEMOC - CAMPUS AGUASCALIENTES        &  79                                             &  20                                             & 65.12                                           & 0.2531646                                       &                                                \\\\\n",
       "\t5 & BAJA CALIFORNIA                                 & CENTRO EST. UNIV. XOCHICALCO, U. ENSENADA       & 264                                             &  48                                             & 61.20                                           & 0.1818182                                       &                                                \\\\\n",
       "\t6 & BAJA CALIFORNIA                                 & CENTRO EST. UNIV. XOCHICALCO, U. TIJUANA        & 157                                             &  31                                             & 63.26                                           & 0.1974522                                       &                                                \\\\\n",
       "\t7 & BAJA CALIFORNIA                                 & UNIV. AUT. DE B.C. - CAMPUS VALLE DE LAS PALMAS & 157                                             &  29                                             & 64.22                                           & 0.1847134                                       & public                                         \\\\\n",
       "\t8 & BAJA CALIFORNIA                                 & UNIV. AUT. DE B.C., U. ENSENADA                 & 206                                             &  57                                             & 65.27                                           & 0.2766990                                       & public                                         \\\\\n",
       "\\end{tabular}\n"
      ],
      "text/markdown": [
       "\n",
       "| <!--/--> | Entidad Federativa | Universidad | Sustentantes | Seleccionados | PromedioGeneral | efi | ispublic | \n",
       "|---|---|---|---|---|---|\n",
       "| 3 | AGUASCALIENTES                                  | UNIV. AUT. DE AGUASCALIENTES                    | 265                                             | 100                                             | 67.93                                           | 0.3773585                                       | public                                          | \n",
       "| 4 | AGUASCALIENTES                                  | UNIV. CUAUHTEMOC - CAMPUS AGUASCALIENTES        |  79                                             |  20                                             | 65.12                                           | 0.2531646                                       |                                                 | \n",
       "| 5 | BAJA CALIFORNIA                                 | CENTRO EST. UNIV. XOCHICALCO, U. ENSENADA       | 264                                             |  48                                             | 61.20                                           | 0.1818182                                       |                                                 | \n",
       "| 6 | BAJA CALIFORNIA                                 | CENTRO EST. UNIV. XOCHICALCO, U. TIJUANA        | 157                                             |  31                                             | 63.26                                           | 0.1974522                                       |                                                 | \n",
       "| 7 | BAJA CALIFORNIA                                 | UNIV. AUT. DE B.C. - CAMPUS VALLE DE LAS PALMAS | 157                                             |  29                                             | 64.22                                           | 0.1847134                                       | public                                          | \n",
       "| 8 | BAJA CALIFORNIA                                 | UNIV. AUT. DE B.C., U. ENSENADA                 | 206                                             |  57                                             | 65.27                                           | 0.2766990                                       | public                                          | \n",
       "\n",
       "\n"
      ],
      "text/plain": [
       "  Entidad Federativa Universidad                                    \n",
       "3 AGUASCALIENTES     UNIV. AUT. DE AGUASCALIENTES                   \n",
       "4 AGUASCALIENTES     UNIV. CUAUHTEMOC - CAMPUS AGUASCALIENTES       \n",
       "5 BAJA CALIFORNIA    CENTRO EST. UNIV. XOCHICALCO, U. ENSENADA      \n",
       "6 BAJA CALIFORNIA    CENTRO EST. UNIV. XOCHICALCO, U. TIJUANA       \n",
       "7 BAJA CALIFORNIA    UNIV. AUT. DE B.C. - CAMPUS VALLE DE LAS PALMAS\n",
       "8 BAJA CALIFORNIA    UNIV. AUT. DE B.C., U. ENSENADA                \n",
       "  Sustentantes Seleccionados PromedioGeneral efi       ispublic\n",
       "3 265          100           67.93           0.3773585 public  \n",
       "4  79           20           65.12           0.2531646         \n",
       "5 264           48           61.20           0.1818182         \n",
       "6 157           31           63.26           0.1974522         \n",
       "7 157           29           64.22           0.1847134 public  \n",
       "8 206           57           65.27           0.2766990 public  "
      ]
     },
     "metadata": {},
     "output_type": "display_data"
    },
    {
     "name": "stdout",
     "output_type": "stream",
     "text": [
      "'data.frame':\t121 obs. of  7 variables:\n",
      " $ Entidad Federativa: chr  \"AGUASCALIENTES\" \"AGUASCALIENTES\" \"BAJA CALIFORNIA\" \"BAJA CALIFORNIA\" ...\n",
      " $ Universidad       : chr  \"UNIV. AUT. DE AGUASCALIENTES\" \"UNIV. CUAUHTEMOC - CAMPUS AGUASCALIENTES\" \"CENTRO EST. UNIV. XOCHICALCO, U. ENSENADA\" \"CENTRO EST. UNIV. XOCHICALCO, U. TIJUANA\" ...\n",
      " $ Sustentantes      : num  265 79 264 157 157 206 283 247 65 211 ...\n",
      " $ Seleccionados     : num  100 20 48 31 29 57 105 72 15 39 ...\n",
      " $ PromedioGeneral   : num  67.9 65.1 61.2 63.3 64.2 ...\n",
      " $ efi               : num  0.377 0.253 0.182 0.197 0.185 ...\n",
      " $ ispublic          : chr  \"public\" \"\" \"\" \"\" ...\n"
     ]
    }
   ],
   "source": [
    "d[grep(pattern = \"AUT\",d$Universidad),\"ispublic\"] <- \"public\"\n",
    "d[grep(pattern = \"IPN\",d$Universidad),\"ispublic\"] <- \"public\"\n",
    "d[grep(pattern = \"UNAM\",d$Universidad),\"ispublic\"] <- \"public\"\n",
    "d[grep(pattern = \"SEDENA\",d$Universidad),\"ispublic\"] <- \"public\"\n",
    "d[grep(pattern = \"UNIV. DE COLIMA\",d$Universidad),\"ispublic\"] <- \"public\"\n",
    "d[grep(pattern = \"UNIV. VERACRUZANA\",d$Universidad),\"ispublic\"] <- \"public\"\n",
    "d[grep(pattern = \"UNIV. DE SONORA\",d$Universidad),\"ispublic\"] <- \"public\"\n",
    "d[grep(pattern = \"UNIV. DE GUADALAJARA\",d$Universidad),\"ispublic\"] <- \"public\"\n",
    "\n",
    "head(d)\n",
    "str(d)"
   ]
  },
  {
   "cell_type": "code",
   "execution_count": 41,
   "metadata": {},
   "outputs": [
    {
     "data": {
      "image/png": "[encoded data removed]",
      "text/plain": [
       "plot without title"
      ]
     },
     "metadata": {},
     "output_type": "display_data"
    }
   ],
   "source": [
    "d[d$ispublic==\"\",\"ispublic\"] <- \"private\"\n",
    "d <- chunkAsType(d,\"ispublic\",as.factor)\n",
    "boxplot(d$efi ~ d$ispublic, ylab=\"Efficiency\" )"
   ]
  },
  {
   "cell_type": "code",
   "execution_count": 39,
   "metadata": {},
   "outputs": [
    {
     "data": {
      "text/html": [
       "<dl class=dl-horizontal>\n",
       "\t<dt>private</dt>\n",
       "\t\t<dd>61</dd>\n",
       "\t<dt>public</dt>\n",
       "\t\t<dd>60</dd>\n",
       "</dl>\n"
      ],
      "text/latex": [
       "\\begin{description*}\n",
       "\\item[private] 61\n",
       "\\item[public] 60\n",
       "\\end{description*}\n"
      ],
      "text/markdown": [
       "private\n",
       ":   61public\n",
       ":   60\n",
       "\n"
      ],
      "text/plain": [
       "private  public \n",
       "     61      60 "
      ]
     },
     "metadata": {},
     "output_type": "display_data"
    }
   ],
   "source": [
    "summary(d$ispublic)"
   ]
  },
  {
   "cell_type": "code",
   "execution_count": 42,
   "metadata": {},
   "outputs": [
    {
     "data": {
      "text/html": [
       "<strong>png:</strong> 2"
      ],
      "text/latex": [
       "\\textbf{png:} 2"
      ],
      "text/markdown": [
       "**png:** 2"
      ],
      "text/plain": [
       "png \n",
       "  2 "
      ]
     },
     "metadata": {},
     "output_type": "display_data"
    }
   ],
   "source": [
    "png(filename = \"fig-03.png\",width = ancho, height = ancho/phi,units = \"in\", res = 600)\n",
    "boxplot(d$efi ~ d$ispublic , ylab=\"Efficiency\" )\n",
    "dev.off()"
   ]
  },
  {
   "cell_type": "code",
   "execution_count": null,
   "metadata": {},
   "outputs": [],
   "source": []
  },
  {
   "cell_type": "code",
   "execution_count": null,
   "metadata": {},
   "outputs": [],
   "source": []
  },
  {
   "cell_type": "code",
   "execution_count": null,
   "metadata": {},
   "outputs": [],
   "source": []
  },
  {
   "cell_type": "code",
   "execution_count": null,
   "metadata": {},
   "outputs": [],
   "source": []
  },
  {
   "cell_type": "code",
   "execution_count": null,
   "metadata": {},
   "outputs": [],
   "source": []
  },
  {
   "cell_type": "code",
   "execution_count": null,
   "metadata": {},
   "outputs": [],
   "source": []
  },
  {
   "cell_type": "code",
   "execution_count": null,
   "metadata": {},
   "outputs": [],
   "source": []
  }
 ],
 "metadata": {
  "kernelspec": {
   "display_name": "R",
   "language": "R",
   "name": "ir"
  },
  "language_info": {
   "codemirror_mode": "r",
   "file_extension": ".r",
   "mimetype": "text/x-r-source",
   "name": "R",
   "pygments_lexer": "r",
   "version": "3.5.1"
  }
 },
 "nbformat": 4,
 "nbformat_minor": 2
}
